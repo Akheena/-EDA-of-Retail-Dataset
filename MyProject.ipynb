{
 "cells": [
  {
   "cell_type": "markdown",
   "metadata": {},
   "source": [
    "\n",
    "\n",
    "## **Importing the required libraries for EDA**\n",
    "\n"
   ]
  },
  {
   "cell_type": "code",
   "execution_count": 1,
   "metadata": {},
   "outputs": [],
   "source": [
    "import numpy as np\n",
    "import matplotlib.pyplot as plt\n",
    "import seaborn as sns\n",
    "import pandas as pd"
   ]
  },
  {
   "cell_type": "markdown",
   "metadata": {},
   "source": [
    "## **Loading the data into the data frame**"
   ]
  },
  {
   "cell_type": "markdown",
   "metadata": {},
   "source": [
    "*  Loading the data into the pandas data frame is certainly one of the most important steps in EDA, as we can see that the value from the data set is comma-separated. So all we have to do is to just read the CSV into a data frame and pandas data frame does the job for us.\n",
    "*  print the head of the dataframe.\n"
   ]
  },
  {
   "cell_type": "code",
   "execution_count": 2,
   "metadata": {},
   "outputs": [
    {
     "name": "stdout",
     "output_type": "stream",
     "text": [
      "      order_id   customer_id        date nearest_warehouse  \\\n",
      "0    ORD182494  ID6197211592  2019-06-22          Thompson   \n",
      "1    ORD395518  ID0282825849  2019-12-29          Thompson   \n",
      "2    ORD494479  ID0579391891  2019-03-02         Nickolson   \n",
      "3    ORD019224  ID4544561904  2019-01-12         Nickolson   \n",
      "4    ORD104032  ID6231506320  2019-11-28         Nickolson   \n",
      "..         ...           ...         ...               ...   \n",
      "495  ORD475510  ID0247417082  2019-08-07         Nickolson   \n",
      "496  ORD086060  ID0130015098  03-28-2019         Nickolson   \n",
      "497  ORD079320  ID2707985442  2019-10-16         Nickolson   \n",
      "498  ORD026546  ID0060088412  2019-05-19         Nickolson   \n",
      "499  ORD085447  ID5257193650  2019-05-25            Bakers   \n",
      "\n",
      "                                         shopping_cart  order_price  \\\n",
      "0    [('Lucent 330S', 1), ('Thunder line', 2), ('iS...        12200   \n",
      "1          [('Thunder line', 1), ('Universe Note', 2)]         9080   \n",
      "2                 [('Thunder line', 1), ('pearTV', 2)]        10670   \n",
      "3    [('Universe Note', 1), ('Alcon 10', 2), ('Oliv...        24800   \n",
      "4    [('Universe Note', 1), ('Olivia x460', 1), ('i...         9145   \n",
      "..                                                 ...          ...   \n",
      "495             [('Alcon 10', 2), ('iAssist Line', 2)]       386776   \n",
      "496  [('pearTV', 2), ('Candle Inferno', 2), ('Toshi...        22120   \n",
      "497  [('pearTV', 1), ('Alcon 10', 1), ('Lucent 330S...        16490   \n",
      "498  [('iStream', 1), ('Candle Inferno', 1), ('iAss...         5030   \n",
      "499  [('iStream', 1), ('Toshika 750', 1), ('Alcon 1...        22370   \n",
      "\n",
      "     delivery_charges  customer_lat  customer_long  coupon_discount  \\\n",
      "0               79.89    -37.815105     144.932843               10   \n",
      "1               62.71    -37.802736     144.951118                0   \n",
      "2               65.87    -37.821302     144.957581               10   \n",
      "3               57.61    -37.811416     144.973073               15   \n",
      "4               75.54     37.823859     144.969892               25   \n",
      "..                ...           ...            ...              ...   \n",
      "495             59.70    -37.817662     144.970405               10   \n",
      "496             62.29    -37.815469     144.968083                0   \n",
      "497            106.98    -37.805979     144.966101                0   \n",
      "498             79.89     37.820071     144.984435               10   \n",
      "499             64.62    -37.812231     144.988679               15   \n",
      "\n",
      "     order_total  season  is_expedited_delivery  \\\n",
      "0       11059.89  Winter                   True   \n",
      "1        9142.71  Summer                  False   \n",
      "2        9668.87  Autumn                  False   \n",
      "3       21137.61  Summer                  False   \n",
      "4        6934.29  Spring                  False   \n",
      "..           ...     ...                    ...   \n",
      "495     20174.70  Winter                   True   \n",
      "496     22182.29  Autumn                   True   \n",
      "497     16596.98  Spring                   True   \n",
      "498      4606.89  Autumn                   True   \n",
      "499     19079.12  Autumn                   True   \n",
      "\n",
      "     distance_to_nearest_warehouse  \\\n",
      "0                           1.2800   \n",
      "1                           1.1621   \n",
      "2                           1.0949   \n",
      "3                           0.8571   \n",
      "4                           0.5867   \n",
      "..                             ...   \n",
      "495                         0.1282   \n",
      "496                         0.3711   \n",
      "497                         1.4368   \n",
      "498                         1.3191   \n",
      "499                         0.6277   \n",
      "\n",
      "                                latest_customer_review  is_happy_customer  \n",
      "0    perfect phone and trusted seller. phone itself...               True  \n",
      "1    it keeps dropping calls the wifi don't work th...              False  \n",
      "2              five stars this is a great cheap phone.               True  \n",
      "3          charger did not fit the charger didn't fit.              False  \n",
      "4                                      four stars good               True  \n",
      "..                                                 ...                ...  \n",
      "495  i bought this phone to send to my sister in .....              False  \n",
      "496                    one star it was the wrong phone              False  \n",
      "497          love this phone! has many great features!               True  \n",
      "498  spoiled son's birthday present son wanted one ...               True  \n",
      "499  two stars the phone is way smaller then it loo...              False  \n",
      "\n",
      "[500 rows x 16 columns]\n"
     ]
    }
   ],
   "source": [
    "data_set=pd.read_csv('C:\\\\Users\\\\Admin\\\\Downloads\\\\dirty_data.csv')\n",
    "df=pd.DataFrame(data_set)\n",
    "print(df)"
   ]
  },
  {
   "cell_type": "markdown",
   "metadata": {},
   "source": [
    "To display the top 5 rows "
   ]
  },
  {
   "cell_type": "code",
   "execution_count": 3,
   "metadata": {},
   "outputs": [
    {
     "data": {
      "text/html": [
       "<div>\n",
       "<style scoped>\n",
       "    .dataframe tbody tr th:only-of-type {\n",
       "        vertical-align: middle;\n",
       "    }\n",
       "\n",
       "    .dataframe tbody tr th {\n",
       "        vertical-align: top;\n",
       "    }\n",
       "\n",
       "    .dataframe thead th {\n",
       "        text-align: right;\n",
       "    }\n",
       "</style>\n",
       "<table border=\"1\" class=\"dataframe\">\n",
       "  <thead>\n",
       "    <tr style=\"text-align: right;\">\n",
       "      <th></th>\n",
       "      <th>order_id</th>\n",
       "      <th>customer_id</th>\n",
       "      <th>date</th>\n",
       "      <th>nearest_warehouse</th>\n",
       "      <th>shopping_cart</th>\n",
       "      <th>order_price</th>\n",
       "      <th>delivery_charges</th>\n",
       "      <th>customer_lat</th>\n",
       "      <th>customer_long</th>\n",
       "      <th>coupon_discount</th>\n",
       "      <th>order_total</th>\n",
       "      <th>season</th>\n",
       "      <th>is_expedited_delivery</th>\n",
       "      <th>distance_to_nearest_warehouse</th>\n",
       "      <th>latest_customer_review</th>\n",
       "      <th>is_happy_customer</th>\n",
       "    </tr>\n",
       "  </thead>\n",
       "  <tbody>\n",
       "    <tr>\n",
       "      <th>0</th>\n",
       "      <td>ORD182494</td>\n",
       "      <td>ID6197211592</td>\n",
       "      <td>2019-06-22</td>\n",
       "      <td>Thompson</td>\n",
       "      <td>[('Lucent 330S', 1), ('Thunder line', 2), ('iS...</td>\n",
       "      <td>12200</td>\n",
       "      <td>79.89</td>\n",
       "      <td>-37.815105</td>\n",
       "      <td>144.932843</td>\n",
       "      <td>10</td>\n",
       "      <td>11059.89</td>\n",
       "      <td>Winter</td>\n",
       "      <td>True</td>\n",
       "      <td>1.2800</td>\n",
       "      <td>perfect phone and trusted seller. phone itself...</td>\n",
       "      <td>True</td>\n",
       "    </tr>\n",
       "    <tr>\n",
       "      <th>1</th>\n",
       "      <td>ORD395518</td>\n",
       "      <td>ID0282825849</td>\n",
       "      <td>2019-12-29</td>\n",
       "      <td>Thompson</td>\n",
       "      <td>[('Thunder line', 1), ('Universe Note', 2)]</td>\n",
       "      <td>9080</td>\n",
       "      <td>62.71</td>\n",
       "      <td>-37.802736</td>\n",
       "      <td>144.951118</td>\n",
       "      <td>0</td>\n",
       "      <td>9142.71</td>\n",
       "      <td>Summer</td>\n",
       "      <td>False</td>\n",
       "      <td>1.1621</td>\n",
       "      <td>it keeps dropping calls the wifi don't work th...</td>\n",
       "      <td>False</td>\n",
       "    </tr>\n",
       "    <tr>\n",
       "      <th>2</th>\n",
       "      <td>ORD494479</td>\n",
       "      <td>ID0579391891</td>\n",
       "      <td>2019-03-02</td>\n",
       "      <td>Nickolson</td>\n",
       "      <td>[('Thunder line', 1), ('pearTV', 2)]</td>\n",
       "      <td>10670</td>\n",
       "      <td>65.87</td>\n",
       "      <td>-37.821302</td>\n",
       "      <td>144.957581</td>\n",
       "      <td>10</td>\n",
       "      <td>9668.87</td>\n",
       "      <td>Autumn</td>\n",
       "      <td>False</td>\n",
       "      <td>1.0949</td>\n",
       "      <td>five stars this is a great cheap phone.</td>\n",
       "      <td>True</td>\n",
       "    </tr>\n",
       "    <tr>\n",
       "      <th>3</th>\n",
       "      <td>ORD019224</td>\n",
       "      <td>ID4544561904</td>\n",
       "      <td>2019-01-12</td>\n",
       "      <td>Nickolson</td>\n",
       "      <td>[('Universe Note', 1), ('Alcon 10', 2), ('Oliv...</td>\n",
       "      <td>24800</td>\n",
       "      <td>57.61</td>\n",
       "      <td>-37.811416</td>\n",
       "      <td>144.973073</td>\n",
       "      <td>15</td>\n",
       "      <td>21137.61</td>\n",
       "      <td>Summer</td>\n",
       "      <td>False</td>\n",
       "      <td>0.8571</td>\n",
       "      <td>charger did not fit the charger didn't fit.</td>\n",
       "      <td>False</td>\n",
       "    </tr>\n",
       "    <tr>\n",
       "      <th>4</th>\n",
       "      <td>ORD104032</td>\n",
       "      <td>ID6231506320</td>\n",
       "      <td>2019-11-28</td>\n",
       "      <td>Nickolson</td>\n",
       "      <td>[('Universe Note', 1), ('Olivia x460', 1), ('i...</td>\n",
       "      <td>9145</td>\n",
       "      <td>75.54</td>\n",
       "      <td>37.823859</td>\n",
       "      <td>144.969892</td>\n",
       "      <td>25</td>\n",
       "      <td>6934.29</td>\n",
       "      <td>Spring</td>\n",
       "      <td>False</td>\n",
       "      <td>0.5867</td>\n",
       "      <td>four stars good</td>\n",
       "      <td>True</td>\n",
       "    </tr>\n",
       "  </tbody>\n",
       "</table>\n",
       "</div>"
      ],
      "text/plain": [
       "    order_id   customer_id        date nearest_warehouse  \\\n",
       "0  ORD182494  ID6197211592  2019-06-22          Thompson   \n",
       "1  ORD395518  ID0282825849  2019-12-29          Thompson   \n",
       "2  ORD494479  ID0579391891  2019-03-02         Nickolson   \n",
       "3  ORD019224  ID4544561904  2019-01-12         Nickolson   \n",
       "4  ORD104032  ID6231506320  2019-11-28         Nickolson   \n",
       "\n",
       "                                       shopping_cart  order_price  \\\n",
       "0  [('Lucent 330S', 1), ('Thunder line', 2), ('iS...        12200   \n",
       "1        [('Thunder line', 1), ('Universe Note', 2)]         9080   \n",
       "2               [('Thunder line', 1), ('pearTV', 2)]        10670   \n",
       "3  [('Universe Note', 1), ('Alcon 10', 2), ('Oliv...        24800   \n",
       "4  [('Universe Note', 1), ('Olivia x460', 1), ('i...         9145   \n",
       "\n",
       "   delivery_charges  customer_lat  customer_long  coupon_discount  \\\n",
       "0             79.89    -37.815105     144.932843               10   \n",
       "1             62.71    -37.802736     144.951118                0   \n",
       "2             65.87    -37.821302     144.957581               10   \n",
       "3             57.61    -37.811416     144.973073               15   \n",
       "4             75.54     37.823859     144.969892               25   \n",
       "\n",
       "   order_total  season  is_expedited_delivery  distance_to_nearest_warehouse  \\\n",
       "0     11059.89  Winter                   True                         1.2800   \n",
       "1      9142.71  Summer                  False                         1.1621   \n",
       "2      9668.87  Autumn                  False                         1.0949   \n",
       "3     21137.61  Summer                  False                         0.8571   \n",
       "4      6934.29  Spring                  False                         0.5867   \n",
       "\n",
       "                              latest_customer_review  is_happy_customer  \n",
       "0  perfect phone and trusted seller. phone itself...               True  \n",
       "1  it keeps dropping calls the wifi don't work th...              False  \n",
       "2            five stars this is a great cheap phone.               True  \n",
       "3        charger did not fit the charger didn't fit.              False  \n",
       "4                                    four stars good               True  "
      ]
     },
     "execution_count": 3,
     "metadata": {},
     "output_type": "execute_result"
    }
   ],
   "source": [
    "df.head(5)"
   ]
  },
  {
   "cell_type": "markdown",
   "metadata": {},
   "source": [
    "To display the botton 5 rows"
   ]
  },
  {
   "cell_type": "code",
   "execution_count": 4,
   "metadata": {},
   "outputs": [
    {
     "data": {
      "text/html": [
       "<div>\n",
       "<style scoped>\n",
       "    .dataframe tbody tr th:only-of-type {\n",
       "        vertical-align: middle;\n",
       "    }\n",
       "\n",
       "    .dataframe tbody tr th {\n",
       "        vertical-align: top;\n",
       "    }\n",
       "\n",
       "    .dataframe thead th {\n",
       "        text-align: right;\n",
       "    }\n",
       "</style>\n",
       "<table border=\"1\" class=\"dataframe\">\n",
       "  <thead>\n",
       "    <tr style=\"text-align: right;\">\n",
       "      <th></th>\n",
       "      <th>order_id</th>\n",
       "      <th>customer_id</th>\n",
       "      <th>date</th>\n",
       "      <th>nearest_warehouse</th>\n",
       "      <th>shopping_cart</th>\n",
       "      <th>order_price</th>\n",
       "      <th>delivery_charges</th>\n",
       "      <th>customer_lat</th>\n",
       "      <th>customer_long</th>\n",
       "      <th>coupon_discount</th>\n",
       "      <th>order_total</th>\n",
       "      <th>season</th>\n",
       "      <th>is_expedited_delivery</th>\n",
       "      <th>distance_to_nearest_warehouse</th>\n",
       "      <th>latest_customer_review</th>\n",
       "      <th>is_happy_customer</th>\n",
       "    </tr>\n",
       "  </thead>\n",
       "  <tbody>\n",
       "    <tr>\n",
       "      <th>495</th>\n",
       "      <td>ORD475510</td>\n",
       "      <td>ID0247417082</td>\n",
       "      <td>2019-08-07</td>\n",
       "      <td>Nickolson</td>\n",
       "      <td>[('Alcon 10', 2), ('iAssist Line', 2)]</td>\n",
       "      <td>386776</td>\n",
       "      <td>59.70</td>\n",
       "      <td>-37.817662</td>\n",
       "      <td>144.970405</td>\n",
       "      <td>10</td>\n",
       "      <td>20174.70</td>\n",
       "      <td>Winter</td>\n",
       "      <td>True</td>\n",
       "      <td>0.1282</td>\n",
       "      <td>i bought this phone to send to my sister in .....</td>\n",
       "      <td>False</td>\n",
       "    </tr>\n",
       "    <tr>\n",
       "      <th>496</th>\n",
       "      <td>ORD086060</td>\n",
       "      <td>ID0130015098</td>\n",
       "      <td>03-28-2019</td>\n",
       "      <td>Nickolson</td>\n",
       "      <td>[('pearTV', 2), ('Candle Inferno', 2), ('Toshi...</td>\n",
       "      <td>22120</td>\n",
       "      <td>62.29</td>\n",
       "      <td>-37.815469</td>\n",
       "      <td>144.968083</td>\n",
       "      <td>0</td>\n",
       "      <td>22182.29</td>\n",
       "      <td>Autumn</td>\n",
       "      <td>True</td>\n",
       "      <td>0.3711</td>\n",
       "      <td>one star it was the wrong phone</td>\n",
       "      <td>False</td>\n",
       "    </tr>\n",
       "    <tr>\n",
       "      <th>497</th>\n",
       "      <td>ORD079320</td>\n",
       "      <td>ID2707985442</td>\n",
       "      <td>2019-10-16</td>\n",
       "      <td>Nickolson</td>\n",
       "      <td>[('pearTV', 1), ('Alcon 10', 1), ('Lucent 330S...</td>\n",
       "      <td>16490</td>\n",
       "      <td>106.98</td>\n",
       "      <td>-37.805979</td>\n",
       "      <td>144.966101</td>\n",
       "      <td>0</td>\n",
       "      <td>16596.98</td>\n",
       "      <td>Spring</td>\n",
       "      <td>True</td>\n",
       "      <td>1.4368</td>\n",
       "      <td>love this phone! has many great features!</td>\n",
       "      <td>True</td>\n",
       "    </tr>\n",
       "    <tr>\n",
       "      <th>498</th>\n",
       "      <td>ORD026546</td>\n",
       "      <td>ID0060088412</td>\n",
       "      <td>2019-05-19</td>\n",
       "      <td>Nickolson</td>\n",
       "      <td>[('iStream', 1), ('Candle Inferno', 1), ('iAss...</td>\n",
       "      <td>5030</td>\n",
       "      <td>79.89</td>\n",
       "      <td>37.820071</td>\n",
       "      <td>144.984435</td>\n",
       "      <td>10</td>\n",
       "      <td>4606.89</td>\n",
       "      <td>Autumn</td>\n",
       "      <td>True</td>\n",
       "      <td>1.3191</td>\n",
       "      <td>spoiled son's birthday present son wanted one ...</td>\n",
       "      <td>True</td>\n",
       "    </tr>\n",
       "    <tr>\n",
       "      <th>499</th>\n",
       "      <td>ORD085447</td>\n",
       "      <td>ID5257193650</td>\n",
       "      <td>2019-05-25</td>\n",
       "      <td>Bakers</td>\n",
       "      <td>[('iStream', 1), ('Toshika 750', 1), ('Alcon 1...</td>\n",
       "      <td>22370</td>\n",
       "      <td>64.62</td>\n",
       "      <td>-37.812231</td>\n",
       "      <td>144.988679</td>\n",
       "      <td>15</td>\n",
       "      <td>19079.12</td>\n",
       "      <td>Autumn</td>\n",
       "      <td>True</td>\n",
       "      <td>0.6277</td>\n",
       "      <td>two stars the phone is way smaller then it loo...</td>\n",
       "      <td>False</td>\n",
       "    </tr>\n",
       "  </tbody>\n",
       "</table>\n",
       "</div>"
      ],
      "text/plain": [
       "      order_id   customer_id        date nearest_warehouse  \\\n",
       "495  ORD475510  ID0247417082  2019-08-07         Nickolson   \n",
       "496  ORD086060  ID0130015098  03-28-2019         Nickolson   \n",
       "497  ORD079320  ID2707985442  2019-10-16         Nickolson   \n",
       "498  ORD026546  ID0060088412  2019-05-19         Nickolson   \n",
       "499  ORD085447  ID5257193650  2019-05-25            Bakers   \n",
       "\n",
       "                                         shopping_cart  order_price  \\\n",
       "495             [('Alcon 10', 2), ('iAssist Line', 2)]       386776   \n",
       "496  [('pearTV', 2), ('Candle Inferno', 2), ('Toshi...        22120   \n",
       "497  [('pearTV', 1), ('Alcon 10', 1), ('Lucent 330S...        16490   \n",
       "498  [('iStream', 1), ('Candle Inferno', 1), ('iAss...         5030   \n",
       "499  [('iStream', 1), ('Toshika 750', 1), ('Alcon 1...        22370   \n",
       "\n",
       "     delivery_charges  customer_lat  customer_long  coupon_discount  \\\n",
       "495             59.70    -37.817662     144.970405               10   \n",
       "496             62.29    -37.815469     144.968083                0   \n",
       "497            106.98    -37.805979     144.966101                0   \n",
       "498             79.89     37.820071     144.984435               10   \n",
       "499             64.62    -37.812231     144.988679               15   \n",
       "\n",
       "     order_total  season  is_expedited_delivery  \\\n",
       "495     20174.70  Winter                   True   \n",
       "496     22182.29  Autumn                   True   \n",
       "497     16596.98  Spring                   True   \n",
       "498      4606.89  Autumn                   True   \n",
       "499     19079.12  Autumn                   True   \n",
       "\n",
       "     distance_to_nearest_warehouse  \\\n",
       "495                         0.1282   \n",
       "496                         0.3711   \n",
       "497                         1.4368   \n",
       "498                         1.3191   \n",
       "499                         0.6277   \n",
       "\n",
       "                                latest_customer_review  is_happy_customer  \n",
       "495  i bought this phone to send to my sister in .....              False  \n",
       "496                    one star it was the wrong phone              False  \n",
       "497          love this phone! has many great features!               True  \n",
       "498  spoiled son's birthday present son wanted one ...               True  \n",
       "499  two stars the phone is way smaller then it loo...              False  "
      ]
     },
     "execution_count": 4,
     "metadata": {},
     "output_type": "execute_result"
    }
   ],
   "source": [
    "df.tail(5)                    "
   ]
  },
  {
   "cell_type": "markdown",
   "metadata": {},
   "source": [
    "Columns Names of the Data"
   ]
  },
  {
   "cell_type": "code",
   "execution_count": 5,
   "metadata": {},
   "outputs": [
    {
     "data": {
      "text/plain": [
       "Index(['order_id', 'customer_id', 'date', 'nearest_warehouse', 'shopping_cart',\n",
       "       'order_price', 'delivery_charges', 'customer_lat', 'customer_long',\n",
       "       'coupon_discount', 'order_total', 'season', 'is_expedited_delivery',\n",
       "       'distance_to_nearest_warehouse', 'latest_customer_review',\n",
       "       'is_happy_customer'],\n",
       "      dtype='object')"
      ]
     },
     "execution_count": 5,
     "metadata": {},
     "output_type": "execute_result"
    }
   ],
   "source": [
    "df.columns"
   ]
  },
  {
   "cell_type": "markdown",
   "metadata": {},
   "source": [
    "Displaying statistical info of data"
   ]
  },
  {
   "cell_type": "code",
   "execution_count": 6,
   "metadata": {},
   "outputs": [
    {
     "data": {
      "text/html": [
       "<div>\n",
       "<style scoped>\n",
       "    .dataframe tbody tr th:only-of-type {\n",
       "        vertical-align: middle;\n",
       "    }\n",
       "\n",
       "    .dataframe tbody tr th {\n",
       "        vertical-align: top;\n",
       "    }\n",
       "\n",
       "    .dataframe thead th {\n",
       "        text-align: right;\n",
       "    }\n",
       "</style>\n",
       "<table border=\"1\" class=\"dataframe\">\n",
       "  <thead>\n",
       "    <tr style=\"text-align: right;\">\n",
       "      <th></th>\n",
       "      <th>order_price</th>\n",
       "      <th>delivery_charges</th>\n",
       "      <th>customer_lat</th>\n",
       "      <th>customer_long</th>\n",
       "      <th>coupon_discount</th>\n",
       "      <th>order_total</th>\n",
       "      <th>distance_to_nearest_warehouse</th>\n",
       "    </tr>\n",
       "  </thead>\n",
       "  <tbody>\n",
       "    <tr>\n",
       "      <th>count</th>\n",
       "      <td>500.000000</td>\n",
       "      <td>500.000000</td>\n",
       "      <td>500.000000</td>\n",
       "      <td>500.000000</td>\n",
       "      <td>500.000000</td>\n",
       "      <td>5.000000e+02</td>\n",
       "      <td>500.000000</td>\n",
       "    </tr>\n",
       "    <tr>\n",
       "      <th>mean</th>\n",
       "      <td>25522.216000</td>\n",
       "      <td>76.658200</td>\n",
       "      <td>-35.835234</td>\n",
       "      <td>144.969494</td>\n",
       "      <td>10.890000</td>\n",
       "      <td>3.920967e+04</td>\n",
       "      <td>2.204224</td>\n",
       "    </tr>\n",
       "    <tr>\n",
       "      <th>std</th>\n",
       "      <td>86333.729169</td>\n",
       "      <td>14.481465</td>\n",
       "      <td>12.045393</td>\n",
       "      <td>0.022720</td>\n",
       "      <td>8.649134</td>\n",
       "      <td>2.741940e+05</td>\n",
       "      <td>8.812416</td>\n",
       "    </tr>\n",
       "    <tr>\n",
       "      <th>min</th>\n",
       "      <td>585.000000</td>\n",
       "      <td>46.350000</td>\n",
       "      <td>-37.827123</td>\n",
       "      <td>144.924967</td>\n",
       "      <td>0.000000</td>\n",
       "      <td>6.392900e+02</td>\n",
       "      <td>0.107800</td>\n",
       "    </tr>\n",
       "    <tr>\n",
       "      <th>25%</th>\n",
       "      <td>7050.000000</td>\n",
       "      <td>65.982500</td>\n",
       "      <td>-37.818222</td>\n",
       "      <td>144.953488</td>\n",
       "      <td>5.000000</td>\n",
       "      <td>6.454735e+03</td>\n",
       "      <td>0.751425</td>\n",
       "    </tr>\n",
       "    <tr>\n",
       "      <th>50%</th>\n",
       "      <td>12807.500000</td>\n",
       "      <td>76.310000</td>\n",
       "      <td>-37.812165</td>\n",
       "      <td>144.965357</td>\n",
       "      <td>10.000000</td>\n",
       "      <td>1.129396e+04</td>\n",
       "      <td>1.030100</td>\n",
       "    </tr>\n",
       "    <tr>\n",
       "      <th>75%</th>\n",
       "      <td>20360.000000</td>\n",
       "      <td>82.555000</td>\n",
       "      <td>-37.805364</td>\n",
       "      <td>144.983985</td>\n",
       "      <td>15.000000</td>\n",
       "      <td>1.811919e+04</td>\n",
       "      <td>1.408625</td>\n",
       "    </tr>\n",
       "    <tr>\n",
       "      <th>max</th>\n",
       "      <td>947691.000000</td>\n",
       "      <td>114.040000</td>\n",
       "      <td>37.826339</td>\n",
       "      <td>145.019837</td>\n",
       "      <td>25.000000</td>\n",
       "      <td>5.688270e+06</td>\n",
       "      <td>94.973400</td>\n",
       "    </tr>\n",
       "  </tbody>\n",
       "</table>\n",
       "</div>"
      ],
      "text/plain": [
       "         order_price  delivery_charges  customer_lat  customer_long  \\\n",
       "count     500.000000        500.000000    500.000000     500.000000   \n",
       "mean    25522.216000         76.658200    -35.835234     144.969494   \n",
       "std     86333.729169         14.481465     12.045393       0.022720   \n",
       "min       585.000000         46.350000    -37.827123     144.924967   \n",
       "25%      7050.000000         65.982500    -37.818222     144.953488   \n",
       "50%     12807.500000         76.310000    -37.812165     144.965357   \n",
       "75%     20360.000000         82.555000    -37.805364     144.983985   \n",
       "max    947691.000000        114.040000     37.826339     145.019837   \n",
       "\n",
       "       coupon_discount   order_total  distance_to_nearest_warehouse  \n",
       "count       500.000000  5.000000e+02                     500.000000  \n",
       "mean         10.890000  3.920967e+04                       2.204224  \n",
       "std           8.649134  2.741940e+05                       8.812416  \n",
       "min           0.000000  6.392900e+02                       0.107800  \n",
       "25%           5.000000  6.454735e+03                       0.751425  \n",
       "50%          10.000000  1.129396e+04                       1.030100  \n",
       "75%          15.000000  1.811919e+04                       1.408625  \n",
       "max          25.000000  5.688270e+06                      94.973400  "
      ]
     },
     "execution_count": 6,
     "metadata": {},
     "output_type": "execute_result"
    }
   ],
   "source": [
    "df.describe()"
   ]
  },
  {
   "cell_type": "code",
   "execution_count": 7,
   "metadata": {},
   "outputs": [
    {
     "name": "stdout",
     "output_type": "stream",
     "text": [
      "Shape of df is: (500, 16)\n"
     ]
    }
   ],
   "source": [
    "print(f'Shape of df is: {df.shape}')"
   ]
  },
  {
   "cell_type": "markdown",
   "metadata": {},
   "source": [
    "Information of our Data like Column Names,Data types ,Memory usage etc"
   ]
  },
  {
   "cell_type": "code",
   "execution_count": 8,
   "metadata": {},
   "outputs": [
    {
     "name": "stdout",
     "output_type": "stream",
     "text": [
      "<class 'pandas.core.frame.DataFrame'>\n",
      "RangeIndex: 500 entries, 0 to 499\n",
      "Data columns (total 16 columns):\n",
      " #   Column                         Non-Null Count  Dtype  \n",
      "---  ------                         --------------  -----  \n",
      " 0   order_id                       500 non-null    object \n",
      " 1   customer_id                    500 non-null    object \n",
      " 2   date                           500 non-null    object \n",
      " 3   nearest_warehouse              500 non-null    object \n",
      " 4   shopping_cart                  500 non-null    object \n",
      " 5   order_price                    500 non-null    int64  \n",
      " 6   delivery_charges               500 non-null    float64\n",
      " 7   customer_lat                   500 non-null    float64\n",
      " 8   customer_long                  500 non-null    float64\n",
      " 9   coupon_discount                500 non-null    int64  \n",
      " 10  order_total                    500 non-null    float64\n",
      " 11  season                         500 non-null    object \n",
      " 12  is_expedited_delivery          500 non-null    bool   \n",
      " 13  distance_to_nearest_warehouse  500 non-null    float64\n",
      " 14  latest_customer_review         499 non-null    object \n",
      " 15  is_happy_customer              500 non-null    bool   \n",
      "dtypes: bool(2), float64(5), int64(2), object(7)\n",
      "memory usage: 55.8+ KB\n"
     ]
    }
   ],
   "source": [
    "df.info()"
   ]
  },
  {
   "cell_type": "markdown",
   "metadata": {},
   "source": [
    "## **Checking the types of data**"
   ]
  },
  {
   "cell_type": "markdown",
   "metadata": {},
   "source": [
    "Analyzing datatype of each column"
   ]
  },
  {
   "cell_type": "code",
   "execution_count": 9,
   "metadata": {},
   "outputs": [
    {
     "data": {
      "text/plain": [
       "order_id                          object\n",
       "customer_id                       object\n",
       "date                              object\n",
       "nearest_warehouse                 object\n",
       "shopping_cart                     object\n",
       "order_price                        int64\n",
       "delivery_charges                 float64\n",
       "customer_lat                     float64\n",
       "customer_long                    float64\n",
       "coupon_discount                    int64\n",
       "order_total                      float64\n",
       "season                            object\n",
       "is_expedited_delivery               bool\n",
       "distance_to_nearest_warehouse    float64\n",
       "latest_customer_review            object\n",
       "is_happy_customer                   bool\n",
       "dtype: object"
      ]
     },
     "execution_count": 9,
     "metadata": {},
     "output_type": "execute_result"
    }
   ],
   "source": [
    "df.dtypes"
   ]
  },
  {
   "cell_type": "markdown",
   "metadata": {},
   "source": [
    "## **Renaming the columns**"
   ]
  },
  {
   "cell_type": "code",
   "execution_count": 10,
   "metadata": {},
   "outputs": [
    {
     "data": {
      "text/html": [
       "<div>\n",
       "<style scoped>\n",
       "    .dataframe tbody tr th:only-of-type {\n",
       "        vertical-align: middle;\n",
       "    }\n",
       "\n",
       "    .dataframe tbody tr th {\n",
       "        vertical-align: top;\n",
       "    }\n",
       "\n",
       "    .dataframe thead th {\n",
       "        text-align: right;\n",
       "    }\n",
       "</style>\n",
       "<table border=\"1\" class=\"dataframe\">\n",
       "  <thead>\n",
       "    <tr style=\"text-align: right;\">\n",
       "      <th></th>\n",
       "      <th>Order_id</th>\n",
       "      <th>Customer_id</th>\n",
       "      <th>Date</th>\n",
       "      <th>Nearest_warehouse</th>\n",
       "      <th>Shopping_cart</th>\n",
       "      <th>Order_price</th>\n",
       "      <th>Delivery_charges</th>\n",
       "      <th>Customer_lat</th>\n",
       "      <th>Customer_long</th>\n",
       "      <th>Coupon_discount</th>\n",
       "      <th>Order_total</th>\n",
       "      <th>Season</th>\n",
       "      <th>Is_expedited_delivery</th>\n",
       "      <th>Distance_to_nearest_warehouse</th>\n",
       "      <th>Latest_customer_review</th>\n",
       "      <th>Is_happy_customer</th>\n",
       "    </tr>\n",
       "  </thead>\n",
       "  <tbody>\n",
       "    <tr>\n",
       "      <th>0</th>\n",
       "      <td>ORD182494</td>\n",
       "      <td>ID6197211592</td>\n",
       "      <td>2019-06-22</td>\n",
       "      <td>Thompson</td>\n",
       "      <td>[('Lucent 330S', 1), ('Thunder line', 2), ('iS...</td>\n",
       "      <td>12200</td>\n",
       "      <td>79.89</td>\n",
       "      <td>-37.815105</td>\n",
       "      <td>144.932843</td>\n",
       "      <td>10</td>\n",
       "      <td>11059.89</td>\n",
       "      <td>Winter</td>\n",
       "      <td>True</td>\n",
       "      <td>1.2800</td>\n",
       "      <td>perfect phone and trusted seller. phone itself...</td>\n",
       "      <td>True</td>\n",
       "    </tr>\n",
       "    <tr>\n",
       "      <th>1</th>\n",
       "      <td>ORD395518</td>\n",
       "      <td>ID0282825849</td>\n",
       "      <td>2019-12-29</td>\n",
       "      <td>Thompson</td>\n",
       "      <td>[('Thunder line', 1), ('Universe Note', 2)]</td>\n",
       "      <td>9080</td>\n",
       "      <td>62.71</td>\n",
       "      <td>-37.802736</td>\n",
       "      <td>144.951118</td>\n",
       "      <td>0</td>\n",
       "      <td>9142.71</td>\n",
       "      <td>Summer</td>\n",
       "      <td>False</td>\n",
       "      <td>1.1621</td>\n",
       "      <td>it keeps dropping calls the wifi don't work th...</td>\n",
       "      <td>False</td>\n",
       "    </tr>\n",
       "    <tr>\n",
       "      <th>2</th>\n",
       "      <td>ORD494479</td>\n",
       "      <td>ID0579391891</td>\n",
       "      <td>2019-03-02</td>\n",
       "      <td>Nickolson</td>\n",
       "      <td>[('Thunder line', 1), ('pearTV', 2)]</td>\n",
       "      <td>10670</td>\n",
       "      <td>65.87</td>\n",
       "      <td>-37.821302</td>\n",
       "      <td>144.957581</td>\n",
       "      <td>10</td>\n",
       "      <td>9668.87</td>\n",
       "      <td>Autumn</td>\n",
       "      <td>False</td>\n",
       "      <td>1.0949</td>\n",
       "      <td>five stars this is a great cheap phone.</td>\n",
       "      <td>True</td>\n",
       "    </tr>\n",
       "    <tr>\n",
       "      <th>3</th>\n",
       "      <td>ORD019224</td>\n",
       "      <td>ID4544561904</td>\n",
       "      <td>2019-01-12</td>\n",
       "      <td>Nickolson</td>\n",
       "      <td>[('Universe Note', 1), ('Alcon 10', 2), ('Oliv...</td>\n",
       "      <td>24800</td>\n",
       "      <td>57.61</td>\n",
       "      <td>-37.811416</td>\n",
       "      <td>144.973073</td>\n",
       "      <td>15</td>\n",
       "      <td>21137.61</td>\n",
       "      <td>Summer</td>\n",
       "      <td>False</td>\n",
       "      <td>0.8571</td>\n",
       "      <td>charger did not fit the charger didn't fit.</td>\n",
       "      <td>False</td>\n",
       "    </tr>\n",
       "    <tr>\n",
       "      <th>4</th>\n",
       "      <td>ORD104032</td>\n",
       "      <td>ID6231506320</td>\n",
       "      <td>2019-11-28</td>\n",
       "      <td>Nickolson</td>\n",
       "      <td>[('Universe Note', 1), ('Olivia x460', 1), ('i...</td>\n",
       "      <td>9145</td>\n",
       "      <td>75.54</td>\n",
       "      <td>37.823859</td>\n",
       "      <td>144.969892</td>\n",
       "      <td>25</td>\n",
       "      <td>6934.29</td>\n",
       "      <td>Spring</td>\n",
       "      <td>False</td>\n",
       "      <td>0.5867</td>\n",
       "      <td>four stars good</td>\n",
       "      <td>True</td>\n",
       "    </tr>\n",
       "  </tbody>\n",
       "</table>\n",
       "</div>"
      ],
      "text/plain": [
       "    Order_id   Customer_id        Date Nearest_warehouse  \\\n",
       "0  ORD182494  ID6197211592  2019-06-22          Thompson   \n",
       "1  ORD395518  ID0282825849  2019-12-29          Thompson   \n",
       "2  ORD494479  ID0579391891  2019-03-02         Nickolson   \n",
       "3  ORD019224  ID4544561904  2019-01-12         Nickolson   \n",
       "4  ORD104032  ID6231506320  2019-11-28         Nickolson   \n",
       "\n",
       "                                       Shopping_cart  Order_price  \\\n",
       "0  [('Lucent 330S', 1), ('Thunder line', 2), ('iS...        12200   \n",
       "1        [('Thunder line', 1), ('Universe Note', 2)]         9080   \n",
       "2               [('Thunder line', 1), ('pearTV', 2)]        10670   \n",
       "3  [('Universe Note', 1), ('Alcon 10', 2), ('Oliv...        24800   \n",
       "4  [('Universe Note', 1), ('Olivia x460', 1), ('i...         9145   \n",
       "\n",
       "   Delivery_charges  Customer_lat  Customer_long  Coupon_discount  \\\n",
       "0             79.89    -37.815105     144.932843               10   \n",
       "1             62.71    -37.802736     144.951118                0   \n",
       "2             65.87    -37.821302     144.957581               10   \n",
       "3             57.61    -37.811416     144.973073               15   \n",
       "4             75.54     37.823859     144.969892               25   \n",
       "\n",
       "   Order_total  Season  Is_expedited_delivery  Distance_to_nearest_warehouse  \\\n",
       "0     11059.89  Winter                   True                         1.2800   \n",
       "1      9142.71  Summer                  False                         1.1621   \n",
       "2      9668.87  Autumn                  False                         1.0949   \n",
       "3     21137.61  Summer                  False                         0.8571   \n",
       "4      6934.29  Spring                  False                         0.5867   \n",
       "\n",
       "                              Latest_customer_review  Is_happy_customer  \n",
       "0  perfect phone and trusted seller. phone itself...               True  \n",
       "1  it keeps dropping calls the wifi don't work th...              False  \n",
       "2            five stars this is a great cheap phone.               True  \n",
       "3        charger did not fit the charger didn't fit.              False  \n",
       "4                                    four stars good               True  "
      ]
     },
     "execution_count": 10,
     "metadata": {},
     "output_type": "execute_result"
    }
   ],
   "source": [
    "#change all column names\n",
    "for i in df:\n",
    "    # print(i)\n",
    "    j=i.replace(' ','_')\n",
    "    df.rename(columns={i:j.capitalize()},inplace=True)\n",
    "df.head(5)    "
   ]
  },
  {
   "cell_type": "markdown",
   "metadata": {},
   "source": [
    "## **Checking the duplicate rows**"
   ]
  },
  {
   "cell_type": "markdown",
   "metadata": {},
   "source": [
    "This is often a handy thing to do because a huge data set contains have some duplicate data which might be disturbing,but in this dataset contains 500 rows\n",
    "have no duplicate data.\n",
    "\n"
   ]
  },
  {
   "cell_type": "code",
   "execution_count": 11,
   "metadata": {},
   "outputs": [
    {
     "data": {
      "text/plain": [
       "(500, 16)"
      ]
     },
     "execution_count": 11,
     "metadata": {},
     "output_type": "execute_result"
    }
   ],
   "source": [
    "df.shape"
   ]
  },
  {
   "cell_type": "code",
   "execution_count": 12,
   "metadata": {},
   "outputs": [
    {
     "name": "stdout",
     "output_type": "stream",
     "text": [
      "number of duplicate rows:  (0, 16)\n"
     ]
    }
   ],
   "source": [
    "duplicate_rows_df = df[df.duplicated()]\n",
    "print(\"number of duplicate rows: \", duplicate_rows_df.shape)"
   ]
  },
  {
   "cell_type": "code",
   "execution_count": 13,
   "metadata": {},
   "outputs": [
    {
     "data": {
      "text/plain": [
       "Order_id                         500\n",
       "Customer_id                      500\n",
       "Date                             500\n",
       "Nearest_warehouse                500\n",
       "Shopping_cart                    500\n",
       "Order_price                      500\n",
       "Delivery_charges                 500\n",
       "Customer_lat                     500\n",
       "Customer_long                    500\n",
       "Coupon_discount                  500\n",
       "Order_total                      500\n",
       "Season                           500\n",
       "Is_expedited_delivery            500\n",
       "Distance_to_nearest_warehouse    500\n",
       "Latest_customer_review           499\n",
       "Is_happy_customer                500\n",
       "dtype: int64"
      ]
     },
     "execution_count": 13,
     "metadata": {},
     "output_type": "execute_result"
    }
   ],
   "source": [
    "df.count()  # Used to count the number of rows"
   ]
  },
  {
   "cell_type": "markdown",
   "metadata": {},
   "source": [
    "## **Dropping the missing or null values**"
   ]
  },
  {
   "cell_type": "markdown",
   "metadata": {},
   "source": [
    "Whether any columns contains null value or not"
   ]
  },
  {
   "cell_type": "code",
   "execution_count": 14,
   "metadata": {},
   "outputs": [
    {
     "name": "stdout",
     "output_type": "stream",
     "text": [
      "Order_id                         0\n",
      "Customer_id                      0\n",
      "Date                             0\n",
      "Nearest_warehouse                0\n",
      "Shopping_cart                    0\n",
      "Order_price                      0\n",
      "Delivery_charges                 0\n",
      "Customer_lat                     0\n",
      "Customer_long                    0\n",
      "Coupon_discount                  0\n",
      "Order_total                      0\n",
      "Season                           0\n",
      "Is_expedited_delivery            0\n",
      "Distance_to_nearest_warehouse    0\n",
      "Latest_customer_review           1\n",
      "Is_happy_customer                0\n",
      "dtype: int64\n"
     ]
    }
   ],
   "source": [
    "print(df.isnull().sum())"
   ]
  },
  {
   "cell_type": "code",
   "execution_count": 15,
   "metadata": {},
   "outputs": [
    {
     "data": {
      "text/plain": [
       "Order_id                         499\n",
       "Customer_id                      499\n",
       "Date                             499\n",
       "Nearest_warehouse                499\n",
       "Shopping_cart                    499\n",
       "Order_price                      499\n",
       "Delivery_charges                 499\n",
       "Customer_lat                     499\n",
       "Customer_long                    499\n",
       "Coupon_discount                  499\n",
       "Order_total                      499\n",
       "Season                           499\n",
       "Is_expedited_delivery            499\n",
       "Distance_to_nearest_warehouse    499\n",
       "Latest_customer_review           499\n",
       "Is_happy_customer                499\n",
       "dtype: int64"
      ]
     },
     "execution_count": 15,
     "metadata": {},
     "output_type": "execute_result"
    }
   ],
   "source": [
    "df = df.dropna()    # Dropping the missing values.\n",
    "df.count()"
   ]
  },
  {
   "cell_type": "code",
   "execution_count": 16,
   "metadata": {},
   "outputs": [
    {
     "name": "stdout",
     "output_type": "stream",
     "text": [
      "Order_id                         0\n",
      "Customer_id                      0\n",
      "Date                             0\n",
      "Nearest_warehouse                0\n",
      "Shopping_cart                    0\n",
      "Order_price                      0\n",
      "Delivery_charges                 0\n",
      "Customer_lat                     0\n",
      "Customer_long                    0\n",
      "Coupon_discount                  0\n",
      "Order_total                      0\n",
      "Season                           0\n",
      "Is_expedited_delivery            0\n",
      "Distance_to_nearest_warehouse    0\n",
      "Latest_customer_review           0\n",
      "Is_happy_customer                0\n",
      "dtype: int64\n"
     ]
    }
   ],
   "source": [
    "print(df.isnull().sum())   # After dropping the values"
   ]
  },
  {
   "cell_type": "markdown",
   "metadata": {},
   "source": [
    "##  **Analyzing order_id**\n",
    "\n",
    "\n",
    "\n",
    "Checking whether order_id is unique or not"
   ]
  },
  {
   "cell_type": "code",
   "execution_count": 17,
   "metadata": {},
   "outputs": [
    {
     "name": "stdout",
     "output_type": "stream",
     "text": [
      "Data in Order_id is unique\n"
     ]
    }
   ],
   "source": [
    "if df.Order_id.is_unique:    \n",
    "    print(\"Data in Order_id is unique\")      # execute when 'if' block will true\n",
    "else:\n",
    "    print(\"Data in Order_id is not unique\")  # execute when 'else' block will true"
   ]
  },
  {
   "cell_type": "markdown",
   "metadata": {},
   "source": [
    "## **Analyzing nearest_warehouse**\n",
    "\n",
    "Unique item in nearest_warehouse"
   ]
  },
  {
   "cell_type": "code",
   "execution_count": 18,
   "metadata": {},
   "outputs": [
    {
     "data": {
      "text/plain": [
       "array(['Thompson', 'Nickolson', 'Bakers', 'nickolson', 'thompson'],\n",
       "      dtype=object)"
      ]
     },
     "execution_count": 18,
     "metadata": {},
     "output_type": "execute_result"
    }
   ],
   "source": [
    "df['Nearest_warehouse'].unique()"
   ]
  },
  {
   "cell_type": "code",
   "execution_count": 19,
   "metadata": {},
   "outputs": [],
   "source": [
    "df.Nearest_warehouse = df.Nearest_warehouse.str.title()"
   ]
  },
  {
   "cell_type": "code",
   "execution_count": 20,
   "metadata": {},
   "outputs": [
    {
     "data": {
      "text/plain": [
       "array(['Thompson', 'Nickolson', 'Bakers'], dtype=object)"
      ]
     },
     "execution_count": 20,
     "metadata": {},
     "output_type": "execute_result"
    }
   ],
   "source": [
    "df['Nearest_warehouse'].unique()"
   ]
  },
  {
   "cell_type": "markdown",
   "metadata": {},
   "source": [
    "## **Checking quantities of Near_warehouse**"
   ]
  },
  {
   "cell_type": "code",
   "execution_count": 21,
   "metadata": {},
   "outputs": [
    {
     "name": "stdout",
     "output_type": "stream",
     "text": [
      "Nearest_warehouse\n",
      "Thompson     197\n",
      "Nickolson    184\n",
      "Bakers       118\n",
      "Name: count, dtype: int64\n"
     ]
    }
   ],
   "source": [
    "warehouses = df['Nearest_warehouse'].value_counts()\n",
    "print(warehouses)"
   ]
  },
  {
   "cell_type": "markdown",
   "metadata": {},
   "source": [
    "## **Visualizing data using bar chart**"
   ]
  },
  {
   "cell_type": "code",
   "execution_count": 22,
   "metadata": {},
   "outputs": [
    {
     "data": {
      "text/plain": [
       "Text(0, 0.5, 'Counts')"
      ]
     },
     "execution_count": 22,
     "metadata": {},
     "output_type": "execute_result"
    },
    {
     "data": {
      "image/png": "[encoded data removed]",
      "text/plain": [
       "<Figure size 1000x500 with 1 Axes>"
      ]
     },
     "metadata": {},
     "output_type": "display_data"
    }
   ],
   "source": [
    "warehouses.plot(kind='bar', rot=1, color=['r','g','b'], figsize=(10,5))\n",
    "plt.title(\"Quantity of the warehouses\\n\", size=15)\n",
    "plt.ylabel(\"Counts\")"
   ]
  },
  {
   "cell_type": "markdown",
   "metadata": {},
   "source": [
    "## **Visualizing data using pie chart**"
   ]
  },
  {
   "cell_type": "code",
   "execution_count": 23,
   "metadata": {},
   "outputs": [
    {
     "data": {
      "image/png": "[encoded data removed]",
      "text/plain": [
       "<Figure size 640x480 with 1 Axes>"
      ]
     },
     "metadata": {},
     "output_type": "display_data"
    }
   ],
   "source": [
    "plt.pie(warehouses,\n",
    "        labels=['Thomson',\"Nickolson\",'Bakers'],\n",
    "        autopct=\"%0.1f%%\",\n",
    "        explode=[0,.01,0.1],\n",
    "        startangle=60,radius=1)\n",
    "plt.title(\"Quantity of warehouses\", size=15)\n",
    "plt.show()"
   ]
  },
  {
   "cell_type": "markdown",
   "metadata": {},
   "source": [
    "## **Displaying Record whose order price is maximum**"
   ]
  },
  {
   "cell_type": "code",
   "execution_count": 24,
   "metadata": {},
   "outputs": [
    {
     "data": {
      "text/html": [
       "<div>\n",
       "<style scoped>\n",
       "    .dataframe tbody tr th:only-of-type {\n",
       "        vertical-align: middle;\n",
       "    }\n",
       "\n",
       "    .dataframe tbody tr th {\n",
       "        vertical-align: top;\n",
       "    }\n",
       "\n",
       "    .dataframe thead th {\n",
       "        text-align: right;\n",
       "    }\n",
       "</style>\n",
       "<table border=\"1\" class=\"dataframe\">\n",
       "  <thead>\n",
       "    <tr style=\"text-align: right;\">\n",
       "      <th></th>\n",
       "      <th>Order_id</th>\n",
       "      <th>Customer_id</th>\n",
       "      <th>Date</th>\n",
       "      <th>Nearest_warehouse</th>\n",
       "      <th>Shopping_cart</th>\n",
       "      <th>Order_price</th>\n",
       "      <th>Delivery_charges</th>\n",
       "      <th>Customer_lat</th>\n",
       "      <th>Customer_long</th>\n",
       "      <th>Coupon_discount</th>\n",
       "      <th>Order_total</th>\n",
       "      <th>Season</th>\n",
       "      <th>Is_expedited_delivery</th>\n",
       "      <th>Distance_to_nearest_warehouse</th>\n",
       "      <th>Latest_customer_review</th>\n",
       "      <th>Is_happy_customer</th>\n",
       "    </tr>\n",
       "  </thead>\n",
       "  <tbody>\n",
       "    <tr>\n",
       "      <th>335</th>\n",
       "      <td>ORD116440</td>\n",
       "      <td>ID0332546017</td>\n",
       "      <td>2019-12-31</td>\n",
       "      <td>Thompson</td>\n",
       "      <td>[('Lucent 330S', 1), ('iAssist Line', 1), ('Ca...</td>\n",
       "      <td>947691</td>\n",
       "      <td>90.82</td>\n",
       "      <td>-37.809368</td>\n",
       "      <td>144.949342</td>\n",
       "      <td>10</td>\n",
       "      <td>9266.32</td>\n",
       "      <td>Summer</td>\n",
       "      <td>True</td>\n",
       "      <td>0.4187</td>\n",
       "      <td>work fine great product and no issues.</td>\n",
       "      <td>True</td>\n",
       "    </tr>\n",
       "  </tbody>\n",
       "</table>\n",
       "</div>"
      ],
      "text/plain": [
       "      Order_id   Customer_id        Date Nearest_warehouse  \\\n",
       "335  ORD116440  ID0332546017  2019-12-31          Thompson   \n",
       "\n",
       "                                         Shopping_cart  Order_price  \\\n",
       "335  [('Lucent 330S', 1), ('iAssist Line', 1), ('Ca...       947691   \n",
       "\n",
       "     Delivery_charges  Customer_lat  Customer_long  Coupon_discount  \\\n",
       "335             90.82    -37.809368     144.949342               10   \n",
       "\n",
       "     Order_total  Season  Is_expedited_delivery  \\\n",
       "335      9266.32  Summer                   True   \n",
       "\n",
       "     Distance_to_nearest_warehouse                  Latest_customer_review  \\\n",
       "335                         0.4187  work fine great product and no issues.   \n",
       "\n",
       "     Is_happy_customer  \n",
       "335               True  "
      ]
     },
     "execution_count": 24,
     "metadata": {},
     "output_type": "execute_result"
    }
   ],
   "source": [
    "df[df.Order_price == df.Order_price.max()]"
   ]
  },
  {
   "cell_type": "markdown",
   "metadata": {},
   "source": [
    "## **Displaying Record whose order price is minimum**"
   ]
  },
  {
   "cell_type": "code",
   "execution_count": 25,
   "metadata": {},
   "outputs": [
    {
     "data": {
      "text/html": [
       "<div>\n",
       "<style scoped>\n",
       "    .dataframe tbody tr th:only-of-type {\n",
       "        vertical-align: middle;\n",
       "    }\n",
       "\n",
       "    .dataframe tbody tr th {\n",
       "        vertical-align: top;\n",
       "    }\n",
       "\n",
       "    .dataframe thead th {\n",
       "        text-align: right;\n",
       "    }\n",
       "</style>\n",
       "<table border=\"1\" class=\"dataframe\">\n",
       "  <thead>\n",
       "    <tr style=\"text-align: right;\">\n",
       "      <th></th>\n",
       "      <th>Order_id</th>\n",
       "      <th>Customer_id</th>\n",
       "      <th>Date</th>\n",
       "      <th>Nearest_warehouse</th>\n",
       "      <th>Shopping_cart</th>\n",
       "      <th>Order_price</th>\n",
       "      <th>Delivery_charges</th>\n",
       "      <th>Customer_lat</th>\n",
       "      <th>Customer_long</th>\n",
       "      <th>Coupon_discount</th>\n",
       "      <th>Order_total</th>\n",
       "      <th>Season</th>\n",
       "      <th>Is_expedited_delivery</th>\n",
       "      <th>Distance_to_nearest_warehouse</th>\n",
       "      <th>Latest_customer_review</th>\n",
       "      <th>Is_happy_customer</th>\n",
       "    </tr>\n",
       "  </thead>\n",
       "  <tbody>\n",
       "    <tr>\n",
       "      <th>308</th>\n",
       "      <td>ORD165713</td>\n",
       "      <td>ID2384157684</td>\n",
       "      <td>2019-11-23</td>\n",
       "      <td>Bakers</td>\n",
       "      <td>[('iStream', 2), ('Candle Inferno', 1)]</td>\n",
       "      <td>585</td>\n",
       "      <td>91.79</td>\n",
       "      <td>-37.800798</td>\n",
       "      <td>145.005428</td>\n",
       "      <td>25</td>\n",
       "      <td>639.29</td>\n",
       "      <td>Spring</td>\n",
       "      <td>True</td>\n",
       "      <td>1.361</td>\n",
       "      <td>junk had this thing for less than 2 months. ha...</td>\n",
       "      <td>False</td>\n",
       "    </tr>\n",
       "  </tbody>\n",
       "</table>\n",
       "</div>"
      ],
      "text/plain": [
       "      Order_id   Customer_id        Date Nearest_warehouse  \\\n",
       "308  ORD165713  ID2384157684  2019-11-23            Bakers   \n",
       "\n",
       "                               Shopping_cart  Order_price  Delivery_charges  \\\n",
       "308  [('iStream', 2), ('Candle Inferno', 1)]          585             91.79   \n",
       "\n",
       "     Customer_lat  Customer_long  Coupon_discount  Order_total  Season  \\\n",
       "308    -37.800798     145.005428               25       639.29  Spring   \n",
       "\n",
       "     Is_expedited_delivery  Distance_to_nearest_warehouse  \\\n",
       "308                   True                          1.361   \n",
       "\n",
       "                                Latest_customer_review  Is_happy_customer  \n",
       "308  junk had this thing for less than 2 months. ha...              False  "
      ]
     },
     "execution_count": 25,
     "metadata": {},
     "output_type": "execute_result"
    }
   ],
   "source": [
    "df[df.Order_price == df.Order_price.min()]"
   ]
  },
  {
   "cell_type": "markdown",
   "metadata": {},
   "source": [
    "## **Analyzing how many customers are happy with sevice**"
   ]
  },
  {
   "cell_type": "code",
   "execution_count": 26,
   "metadata": {},
   "outputs": [
    {
     "data": {
      "text/plain": [
       "array([ True, False])"
      ]
     },
     "execution_count": 26,
     "metadata": {},
     "output_type": "execute_result"
    }
   ],
   "source": [
    "df['Is_happy_customer'].unique()    "
   ]
  },
  {
   "cell_type": "code",
   "execution_count": 27,
   "metadata": {},
   "outputs": [
    {
     "name": "stdout",
     "output_type": "stream",
     "text": [
      "Is_happy_customer\n",
      "True     358\n",
      "False    141\n",
      "Name: count, dtype: int64\n"
     ]
    }
   ],
   "source": [
    "satisfaction = df['Is_happy_customer'].value_counts()\n",
    "print(satisfaction)"
   ]
  },
  {
   "cell_type": "code",
   "execution_count": 28,
   "metadata": {},
   "outputs": [
    {
     "data": {
      "image/png": "[encoded data removed]",
      "text/plain": [
       "<Figure size 1500x500 with 2 Axes>"
      ]
     },
     "metadata": {},
     "output_type": "display_data"
    }
   ],
   "source": [
    "plt.figure(figsize=(15,5))\n",
    "\n",
    "plt.subplot(121)\n",
    "satisfaction.plot(kind='bar', color=['b','r'], rot=1)\n",
    "plt.xticks(range(2), labels=['Satisfy','Not Satifty'])\n",
    "plt.ylabel('Counts')\n",
    "plt.title(\"Customer satisfaction Vs Not satisfaction\\n\", size=15)\n",
    "\n",
    "\n",
    "plt.subplot(122)\n",
    "plt.pie(satisfaction,labels=['Satisfy','Not Satifty'],colors=['g','y'],autopct=\"%.1f%%\",explode=[0,0.1],shadow=True)\n",
    "plt.title(\"Percentage of Customer satisfaction Vs Not satisfaction\\n\", size=15)\n",
    "\n",
    "plt.show()"
   ]
  },
  {
   "cell_type": "markdown",
   "metadata": {},
   "source": [
    "71.7% customers are satisfy with service\n"
   ]
  },
  {
   "cell_type": "code",
   "execution_count": 29,
   "metadata": {},
   "outputs": [],
   "source": [
    "sns.pairplot(df)"
   ]
  },
  {
   "cell_type": "markdown",
   "metadata": {},
   "source": [
    "Heat Maps"
   ]
  },
  {
   "cell_type": "code",
   "execution_count": null,
   "metadata": {},
   "outputs": [
    {
     "data": {
      "text/plain": [
       "<Axes: >"
      ]
     },
     "execution_count": 40,
     "metadata": {},
     "output_type": "execute_result"
    },
    {
     "data": {
      "image/png": "[encoded data removed]",
      "text/plain": [
       "<Figure size 640x480 with 2 Axes>"
      ]
     },
     "metadata": {},
     "output_type": "display_data"
    }
   ],
   "source": [
    "sns.heatmap(df.corr(numeric_only=\"silence\"),cmap='Greens',annot=True)"
   ]
  }
 ],
 "metadata": {
  "kernelspec": {
   "display_name": "Python 3",
   "language": "python",
   "name": "python3"
  },
  "language_info": {
   "codemirror_mode": {
    "name": "ipython",
    "version": 3
   },
   "file_extension": ".py",
   "mimetype": "text/x-python",
   "name": "python",
   "nbconvert_exporter": "python",
   "pygments_lexer": "ipython3",
   "version": "3.12.1"
  }
 },
 "nbformat": 4,
 "nbformat_minor": 2
}
